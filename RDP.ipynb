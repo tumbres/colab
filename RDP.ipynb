{
  "nbformat": 4,
  "nbformat_minor": 0,
  "metadata": {
    "colab": {
      "name": "Colab RDP.ipynb",
      "provenance": [],
      "collapsed_sections": [],
      "include_colab_link": true
    },
    "kernelspec": {
      "name": "python3",
      "display_name": "Python 3"
    }
  },
  "cells": [
    {
      "cell_type": "markdown",
      "metadata": {
        "id": "view-in-github",
        "colab_type": "text"
      },
      "source": [
        "<a href=\"https://colab.research.google.com/github/tkimondox/colab/blob/main/RDP.ipynb\" target=\"_parent\"><img src=\"https://colab.research.google.com/assets/colab-badge.svg\" alt=\"Open In Colab\"/></a>"
      ]
    },
    {
      "cell_type": "markdown",
      "metadata": {
        "id": "iLh_9SkSut4u"
      },
      "source": [
        "# **Colab RDP ROTG** : Remote Desktop ROTG to Colab Instance\n",
        "\n",
        "\n",
        "> **Warning : Not for Cryptocurrency Mining<br></br>** \n",
        ">**Why are hardware resources such as T4 GPUs not available to me?** The best available hardware is prioritized for users who use Colaboratory interactively rather than for long-running computations. Users who use Colaboratory for long-running computations may be temporarily restricted in the type of hardware made available to them, and/or the duration that the hardware can be used for. We encourage users with high computational needs to use Colaboratory’s UI with a local runtime. Please note that using Colaboratory for cryptocurrency mining is disallowed entirely, and may result in being banned from using Colab altogether.\n",
        "\n",
        "Google Colab can give you Instance with 12GB of RAM and GPU for 12 hours (Max.) for Free users. Anyone can use it to perform Heavy Tasks.\n",
        "\n"
      ]
    },
    {
      "cell_type": "code",
      "metadata": {
        "id": "t4yNp3KmLtZ6",
        "cellView": "form"
      },
      "source": [
        "#@title **Create User**\n",
        "#@markdown Enter Username and Password\n",
        "\n",
        "import os\n",
        "\n",
        "username = \"user\" #@param {type:\"string\"}\n",
        "password = \"root\" #@param {type:\"string\"}\n",
        "\n",
        "print(\"Creating User and Setting it up\")\n",
        "\n",
        "# Creation of user\n",
        "os.system(f\"useradd -m {username}\")\n",
        "\n",
        "# Add user to sudo group\n",
        "os.system(f\"adduser {username} sudo\")\n",
        "    \n",
        "# Set password of user to 'root'\n",
        "os.system(f\"echo '{username}:{password}' | sudo chpasswd\")\n",
        "\n",
        "# Change default shell from sh to bash\n",
        "os.system(\"sed -i 's/\\/bin\\/sh/\\/bin\\/bash/g' /etc/passwd\")\n",
        "\n",
        "print(f\"User created and configured having username `{username}` and password `{password}`\")"
      ],
      "execution_count": null,
      "outputs": []
    },
    {
      "cell_type": "code",
      "metadata": {
        "id": "Q6bl1b0EifVG",
        "cellView": "form"
      },
      "source": [
        "#@title **RDP**\n",
        "#@markdown  It takes 4-5 minutes for installation\n",
        "\n",
        "import os\n",
        "import subprocess\n",
        "\n",
        "#@markdown  Visit http://remotedesktop.google.com/headless and copy the command after Authentication\n",
        "\n",
        "CRP = \"\" #@param {type:\"string\"}\n",
        "\n",
        "#@markdown Enter a Pin (more or equal to 6 digits)\n",
        "Pin = 123456 #@param {type: \"integer\"}\n",
        "\n",
        "#@markdown Autostart Notebook in RDP\n",
        "Autostart = False #@param {type: \"boolean\"}\n",
        "\n",
        "\n",
        "class CRD:\n",
        "    def __init__(self, user):\n",
        "        os.system(\"apt update\")\n",
        "        self.installCRD()\n",
        "        self.installDesktopEnvironment()\n",
        "        self.installGoogleChorme()\n",
        "        self.finish(user)\n",
        "        print(\"\\nRDP created succesfully move to https://remotedesktop.google.com/access\")\n",
        "\n",
        "    @staticmethod\n",
        "    def installCRD():\n",
        "        print(\"Installing Chrome Remote Desktop\")\n",
        "        subprocess.run(['wget', 'https://dl.google.com/linux/direct/chrome-remote-desktop_current_amd64.deb'], stdout=subprocess.PIPE)\n",
        "        subprocess.run(['dpkg', '--install', 'chrome-remote-desktop_current_amd64.deb'], stdout=subprocess.PIPE)\n",
        "        subprocess.run(['apt', 'install', '--assume-yes', '--fix-broken'], stdout=subprocess.PIPE)\n",
        "\n",
        "    @staticmethod\n",
        "    def installDesktopEnvironment():\n",
        "        print(\"Installing Desktop Environment\")\n",
        "        os.system(\"export DEBIAN_FRONTEND=noninteractive\")\n",
        "        os.system(\"apt install --assume-yes xfce4 desktop-base xfce4-terminal\")\n",
        "        os.system(\"bash -c 'echo \\\"exec /etc/X11/Xsession /usr/bin/xfce4-session\\\" > /etc/chrome-remote-desktop-session'\")\n",
        "        os.system(\"apt remove --assume-yes gnome-terminal\")\n",
        "        os.system(\"apt install --assume-yes xscreensaver\")\n",
        "        os.system(\"systemctl disable lightdm.service\")\n",
        "\n",
        "    @staticmethod\n",
        "    def installGoogleChorme():\n",
        "        print(\"Installing Google Chrome\")\n",
        "        subprocess.run([\"wget\", \"https://dl.google.com/linux/direct/google-chrome-stable_current_amd64.deb\"], stdout=subprocess.PIPE)\n",
        "        subprocess.run([\"dpkg\", \"--install\", \"google-chrome-stable_current_amd64.deb\"], stdout=subprocess.PIPE)\n",
        "        subprocess.run(['apt', 'install', '--assume-yes', '--fix-broken'], stdout=subprocess.PIPE)\n",
        "\n",
        "    @staticmethod\n",
        "    def finish(user):\n",
        "        print(\"Finalizing\")\n",
        "        if Autostart:\n",
        "            os.makedirs(f\"/home/{user}/.config/autostart\", exist_ok=True)\n",
        "            link = \"https://colab.research.google.com/github/tkimondox/colab/blob/main/RDP.ipynb\"\n",
        "            colab_autostart = \"\"\"[Desktop Entry]\n",
        "Type=Application\n",
        "Name=Colab\n",
        "Exec=sh -c \"sensible-browser {}\"\n",
        "Icon=\n",
        "Comment=Open a predefined notebook at session signin.\n",
        "X-GNOME-Autostart-enabled=true\"\"\".format(link)\n",
        "            with open(f\"/home/{user}/.config/autostart/colab.desktop\", \"w\") as f:\n",
        "                f.write(colab_autostart)\n",
        "            os.system(f\"chmod +x /home/{user}/.config/autostart/colab.desktop\")\n",
        "            os.system(f\"chown {user}:{user} /home/{user}/.config\")\n",
        "\n",
        "        os.system(f\"adduser {user} chrome-remote-desktop\")\n",
        "        command = f\"{CRP} --pin={Pin}\"\n",
        "        os.system(f\"su - {user} -c '{command}'\")\n",
        "        os.system(\"service chrome-remote-desktop start\")\n",
        "        \n",
        "\n",
        "        print(\"Finished Succesfully\")\n",
        "\n",
        "\n",
        "try:\n",
        "    if CRP == \"\":\n",
        "        print(\"Please enter authcode from the given link\")\n",
        "    elif len(str(Pin)) < 6:\n",
        "        print(\"Enter a pin more or equal to 6 digits\")\n",
        "    else:\n",
        "        CRD(username)\n",
        "except NameError as e:\n",
        "    print(\"'username' variable not found, Create a user first\")"
      ],
      "execution_count": null,
      "outputs": []
    },
    {
      "cell_type": "code",
      "metadata": {
        "id": "vk2qtOTGIFsQ",
        "cellView": "form"
      },
      "source": [
        "#@title **SSH**\n",
        "\n",
        "! pip install colab_ssh --upgrade &> /dev/null\n",
        "\n",
        "#@markdown Choose a method (Agro Recommended)\n",
        "ssh_method = \"Agro\" #@param [\"Agro\", \"Ngrok\"]\n",
        "\n",
        "\n",
        "#@markdown Copy authtoken from https://dashboard.ngrok.com/auth (only for ngrok)\n",
        "ngrokRegion = \"us\" #@param [\"us\", \"eu\", \"ap\", \"au\", \"sa\", \"jp\", \"in\"]\n",
        "\n",
        "def runAgro():\n",
        "    from colab_ssh import launch_ssh_cloudflared\n",
        "    launch_ssh_cloudflared(password=password)\n",
        "\n",
        "def runNgrok():\n",
        "    from colab_ssh import launch_ssh\n",
        "    from IPython.display import clear_output\n",
        "\n",
        "    import getpass\n",
        "    ngrokToken = getpass.getpass(\"Enter the ngrokToken: \")\n",
        "\n",
        "    launch_ssh(ngrokToken, password, region=ngrokRegion)\n",
        "    clear_output()\n",
        "\n",
        "    print(\"ssh\", user, end='@')\n",
        "    ! curl -s http://localhost:4040/api/tunnels | python3 -c \\\n",
        "            \"import sys, json; print(json.load(sys.stdin)['tunnels'][0]['public_url'][6:].replace(':', ' -p '))\"\n",
        "\n",
        "try:\n",
        "    user = username\n",
        "    password = password\n",
        "except NameError:\n",
        "    print(\"No user found, using username and password as 'root'\")\n",
        "    user='root'\n",
        "    password='root'\n",
        "\n",
        "\n",
        "if ssh_method == \"Agro\":\n",
        "    runAgro()\n",
        "if ssh_method == \"Ngrok\":\n",
        "    runNgrok()"
      ],
      "execution_count": null,
      "outputs": []
    },
    {
      "cell_type": "code",
      "metadata": {
        "id": "UoeBdz6_KE6a",
        "cellView": "form"
      },
      "source": [
        "#@title **Colab Shutdown**\n",
        "\n",
        "#@markdown To Kill NGROK Tunnel\n",
        "NGROK = False #@param {type:'boolean'}\n",
        "\n",
        "#@markdown To Sleep Colab\n",
        "Sleep = True #@param {type:'boolean'}\n",
        "\n",
        "if NGROK:\n",
        "    ! killall ngrok\n",
        "\n",
        "if Sleep:\n",
        "    from time import sleep\n",
        "    sleep(43200)"
      ],
      "execution_count": null,
      "outputs": []
    },
    {
      "cell_type": "markdown",
      "source": [
        "# **<font color='red'> ROTG - This version of ROTG is for personal use only </font>**\n"
      ],
      "metadata": {
        "id": "wY3h46uXap-K"
      }
    },
    {
      "cell_type": "markdown",
      "source": [
        "## **<font color=\"red\">Important note</font> - After doing all the steps, please note that depending on your file size of the mp4 @ mkv files, it may take a while to show up in your Google Drive. Please be patient. Eventually, it will show up in your drive.**\n",
        "###**<font color=\"red\">For larger files</font> - it may take some time to show up in your Google Drive. Do not rerun the code if it doesn't show up fast. Just keep refreshing your Google Drive page to see if it shows up**\n",
        "###**<font color=\"red\">For small files</font> - it will show up quicker in your Google Drive. Just wait until it shows up. Just keep refreshing your page to see if it shows up**\n",
        "###**<font color=\"red\">Update</font> - added some features**\n",
        "* Multi fragments download (50 frags)\n",
        "* Add support extract and download subtitle via mpd.\n",
        "* Add support upload subtitle.\n",
        "* Add support convert vtt to srt.\n"
      ],
      "metadata": {
        "id": "J9tnZpEFbKJS"
      }
    },
    {
      "cell_type": "markdown",
      "source": [
        "#__Mount Google Drive__"
      ],
      "metadata": {
        "id": "cCgA1WHJb3KK"
      }
    },
    {
      "cell_type": "code",
      "source": [
        "#@title Klik \"Play\" untuk mount\n",
        "from google.colab import drive\n",
        "drive.mount('/content/drive')\n",
        "print(\"Mounted!\")"
      ],
      "metadata": {
        "cellView": "form",
        "id": "AlIrOqpMb1Bb"
      },
      "execution_count": null,
      "outputs": []
    },
    {
      "cell_type": "markdown",
      "source": [
        "#__Install ROTG tools__"
      ],
      "metadata": {
        "id": "jv-RQDMycIhR"
      }
    },
    {
      "cell_type": "code",
      "source": [
        "#@title Klik \"Play\" button untuk install\n",
        "from IPython.display import clear_output \n",
        "!sudo apt update\n",
        "!sudo apt install aria2\n",
        "!sudo curl -L https://github.com/yt-dlp/yt-dlp/releases/latest/download/yt-dlp -o /usr/local/bin/yt-dlp\n",
        "!sudo chmod a+rx /usr/local/bin/yt-dlp\n",
        "!sudo curl -L https://github.com/tkimondok/ROTG/raw/main/mp4decrypt -o /usr/local/bin/mp4decrypt\n",
        "!sudo chmod a+rx /usr/local/bin/mp4decrypt\n",
        "!sudo apt install ffmpeg\n",
        "!sudo apt -y install aria2\n",
        "clear_output()\n",
        "print(\"Install successful\")"
      ],
      "metadata": {
        "cellView": "form",
        "id": "7A_f6IA3cQHa"
      },
      "execution_count": null,
      "outputs": []
    },
    {
      "cell_type": "markdown",
      "source": [
        "#__1-CLICK RIPPING__"
      ],
      "metadata": {
        "id": "PUKHbPw-d3xQ"
      }
    },
    {
      "cell_type": "code",
      "source": [
        "#@markdown <h2>Extract manifest info</h2>\n",
        "MPD_URL = 'https://hbogoprod-vod.akamaized.net/video/vod/output/HBOAsia/60c51f4616b55f4d934d7cbc_hbovodhd/dash0/MYS_DOLBY_index.mpd' #@param {type:\"string\"}\n",
        "!yt-dlp --no-warnings --allow-u -F \"{MPD_URL}\"\n",
        "print(\"[Note:] Sila copy video ID dan audio ID dan masukkan di kotak dibawah:\")"
      ],
      "metadata": {
        "cellView": "form",
        "id": "uqJmkdPFd2up"
      },
      "execution_count": null,
      "outputs": []
    },
    {
      "cell_type": "code",
      "source": [
        "#@markdown <h2>Downloading video and audio</h2>\n",
        "from IPython.display import clear_output\n",
        "VIDEO_ID = 'video_avc1_1' #@param {type:\"string\"}\n",
        "AUDIO_ID = 'audio_DOLBY_ec-3' #@param {type:\"string\"}\n",
        "VIDEO_OUTPUT = 'default.mp4' #@param {type:\"string\"}\n",
        "AUDIO_OUTPUT = 'default.m4a' #@param {type:\"string\"}\n",
        "VIDEO_DECRYPT_OUTPUT = 'dec.mp4' #@param {type:\"string\"}\n",
        "AUDIO_DECRYPT_OUTPUT = 'dec.m4a' #@param {type:\"string\"}\n",
        "KID_KEY = 'bb34dd66328a5597b9ba6d7589d89ffe:54f10655fe0b033e9c820bde8d94618a' #@param {type:\"string\"}\n",
        "#@markdown <h4>INFO: Boleh terus save ke Drive @ Team Drive. Hanya perlu masukkan path diikuti output</h4>\n",
        "FINAL_OUTPUT = 'done.mp4' #@param {type:\"string\"}\n",
        "print(\"Downloading video.....\")\n",
        "!yt-dlp --no-warnings --allow-u -f \"{VIDEO_ID}\" \"{MPD_URL}\" -o \"{VIDEO_OUTPUT}\" -N 60\n",
        "clear_output()\n",
        "print(\"Success\")\n",
        "clear_output()\n",
        "print(\"Downloading audio.....\")\n",
        "!yt-dlp --no-warnings --allow-u -f \"{AUDIO_ID}\" \"{MPD_URL}\" -o \"{AUDIO_OUTPUT}\" -N 60\n",
        "clear_output()\n",
        "print(\"Success\")\n",
        "clear_output()\n",
        "print(\"Decrypting video.....\")\n",
        "!mp4decrypt --show-progress --key \"{KID_KEY}\" \"{VIDEO_OUTPUT}\" \"{VIDEO_DECRYPT_OUTPUT}\"\n",
        "clear_output()\n",
        "print(\"Success\")\n",
        "clear_output()\n",
        "print(\"Decrypting audio.....\")\n",
        "!mp4decrypt --show-progress --key \"{KID_KEY}\" \"{AUDIO_OUTPUT}\" \"{AUDIO_DECRYPT_OUTPUT}\"\n",
        "clear_output()\n",
        "print(\"Success\")\n",
        "clear_output()\n",
        "print(\"Merging video and audio into single file.....\")\n",
        "!ffmpeg -loglevel error -i \"{VIDEO_DECRYPT_OUTPUT}\" -i \"{AUDIO_DECRYPT_OUTPUT}\" -c copy \"{FINAL_OUTPUT}\"\n",
        "clear_output()\n",
        "print(\"Success\")\n",
        "clear_output()\n",
        "print(\"Video sudah siap dan ready to play @ share.....\\nUntuk masukkan subtitle, silahkan scroll kebawah.\")"
      ],
      "metadata": {
        "cellView": "form",
        "id": "yesgUWe2fF0p"
      },
      "execution_count": null,
      "outputs": []
    },
    {
      "cell_type": "markdown",
      "source": [
        "#__GETTING & DOWNLOADING SUBTITLE FROM MPD__"
      ],
      "metadata": {
        "id": "0wpWay7NqmiF"
      }
    },
    {
      "cell_type": "code",
      "source": [
        "#@title List all available subtitle:\n",
        "!yt-dlp --no-warnings --allow-u --list-subs \"{MPD_URL}\""
      ],
      "metadata": {
        "cellView": "form",
        "id": "vxllVZ7Rqx7M"
      },
      "execution_count": null,
      "outputs": []
    },
    {
      "cell_type": "code",
      "source": [
        "#@title Download all available subtitles:\n",
        "!yt-dlp --no-warnings --allow-u -N 32 --skip-download --all-subs \"{MPD_URL}\" -o subtitle"
      ],
      "metadata": {
        "cellView": "form",
        "id": "k9e_i_0LrM9t"
      },
      "execution_count": null,
      "outputs": []
    },
    {
      "cell_type": "code",
      "source": [
        "#@title Upload own subtitle:\n",
        "#@markdown *Please enable/allow all cookies from your browser to enable upload button.\n",
        "from google.colab import files\n",
        "uploaded = files.upload()"
      ],
      "metadata": {
        "cellView": "form",
        "id": "r_WdIliDrnbk"
      },
      "execution_count": null,
      "outputs": []
    },
    {
      "cell_type": "markdown",
      "source": [
        "#__CONVERT VTT TO SRT__"
      ],
      "metadata": {
        "id": "0HujI7AstIf0"
      }
    },
    {
      "cell_type": "code",
      "source": [
        "SUBTITLE_INPUT = 'subtitle.MA.vtt' #@param {type:\"string\"}\n",
        "SUBTITLE_OUTPUT = 'MA.srt' #@param {type:\"string\"}\n",
        "!ffmpeg -loglevel error -i \"{SUBTITLE_INPUT}\" \"{SUBTITLE_OUTPUT}\"\n",
        "clear_output()\n",
        "SUBTITLE_INPUT = 'subtitle.EN.vtt' #@param {type:\"string\"}\n",
        "SUBTITLE_OUTPUT = 'EN.srt' #@param {type:\"string\"}\n",
        "!ffmpeg -loglevel error -i \"{SUBTITLE_INPUT}\" \"{SUBTITLE_OUTPUT}\"\n",
        "clear_output()\n",
        "SUBTITLE_INPUT = 'subtitle.CN.vtt' #@param {type:\"string\"}\n",
        "SUBTITLE_OUTPUT = 'CN.srt' #@param {type:\"string\"}\n",
        "!ffmpeg -loglevel error -i \"{SUBTITLE_INPUT}\" \"{SUBTITLE_OUTPUT}\"\n",
        "clear_output()\n",
        "print(\"Done!\")"
      ],
      "metadata": {
        "cellView": "form",
        "id": "pxF8VMauwllD"
      },
      "execution_count": null,
      "outputs": []
    },
    {
      "cell_type": "markdown",
      "source": [
        "#__MUXING SUBTITLE__"
      ],
      "metadata": {
        "id": "UV6C9kmQp3q9"
      }
    },
    {
      "cell_type": "code",
      "source": [
        "#@title <h3>Mux 1 subtitle</h3>\n",
        "SUBTITLE = 'MA.srt' #@param {type:\"string\"}\n",
        "LANGUAGE = 'malaysia' #@param {type:\"string\"}\n",
        "OUTPUT = 'MOVIES.1080p.WEB-DL.AAC.H264-ROTG.mkv' #@param {type:\"string\"}\n",
        "!ffmpeg -i \"{FINAL_OUTPUT}\" -i \"{SUBTITLE}\" -map 0 -map 1:s -c copy -metadata:s:s:0 language=\"{LANGUAGE}\" \"{OUTPUT}\""
      ],
      "metadata": {
        "cellView": "form",
        "id": "b1mDBFgjp8qV"
      },
      "execution_count": null,
      "outputs": []
    },
    {
      "cell_type": "code",
      "source": [
        "#@markdown <h3>Mux 2 subtitles</h3>\n",
        "SUBTITLE_01 = 'EN.srt' #@param {type:\"string\"}\n",
        "SUBTITLE_02 = 'MA.srt' #@param {type:\"string\"}\n",
        "LANGUAGE_01 = 'english' #@param {type:\"string\"}\n",
        "LANGUAGE_02 = 'malaysia' #@param {type:\"string\"}\n",
        "OUTPUT = 'MOVIES.1080p.WEB-DL.AAC.H264-ROTG.mkv' #@param {type:\"string\"}\n",
        "!ffmpeg -i \"{FINAL_OUTPUT}\" -i \"{SUBTITLE_01}\" -i \"{SUBTITLE_02}\" -map 0 -map 1:s -map 2:s -c copy -metadata:s:s:0 language=\"{LANGUAGE_01}\" -metadata:s:s:1 language=\"{LANGUAGE_02}\" \"{OUT_PUT}\""
      ],
      "metadata": {
        "cellView": "form",
        "id": "_Bgb2Pq-zlRh"
      },
      "execution_count": null,
      "outputs": []
    },
    {
      "cell_type": "code",
      "source": [
        "#@markdown <h3>Mux 3 subtitles</h3>\n",
        "SUBTITLE_01 = 'EN.srt' #@param {type:\"string\"}\n",
        "SUBTITLE_02 = 'MA.srt' #@param {type:\"string\"}\n",
        "SUBTITLE_03 = 'CN.srt' #@param {type:\"string\"}\n",
        "LANGUAGE_01 = 'english' #@param {type:\"string\"}\n",
        "LANGUAGE_02 = 'malaysia' #@param {type:\"string\"}\n",
        "LANGUAGE_03 = 'china' #@param {type:\"string\"}\n",
        "OUTPUT = 'MOVIES.1080p.WEB-DL.AAC.H264-ROTG.mkv' #@param {type:\"string\"}\n",
        "!ffmpeg -i \"{FINAL_OUTPUT}\" -i \"{SUBTITLE_01}\" -i \"{SUBTITLE_02}\" -i \"{SUBTITLE_03}\" -map 0 -map 1:s -map 2:s -map 3:s -c copy -metadata:s:s:0 language=\"{LANGUAGE_01}\" -metadata:s:s:1 language=\"{LANGUAGE_02}\" -metadata:s:s:2 language=\"{LANGUAGE_03}\" \"{OUTPUT}\""
      ],
      "metadata": {
        "cellView": "form",
        "id": "MJaafoKCzmbh"
      },
      "execution_count": null,
      "outputs": []
    },
    {
      "cell_type": "markdown",
      "source": [
        "#__COPY @ MOVE OUTPUT TO NEW PATH__"
      ],
      "metadata": {
        "id": "fdy9C6b304ZA"
      }
    },
    {
      "cell_type": "code",
      "source": [
        "#@markdown <h3>Copy output (No Subtitle) from root to new path</h3>\n",
        "NEW_PATH = '/content/drive/MyDrive' #@param {type:\"string\"}\n",
        "!cp -r \"{FINAL_OUTPUT}\" \"{NEW_PATH}\""
      ],
      "metadata": {
        "cellView": "form",
        "id": "TE3-gr2Z05UQ"
      },
      "execution_count": null,
      "outputs": []
    },
    {
      "cell_type": "code",
      "source": [
        "#@markdown <h3>Copy output (Muxed subtitle) from root to new path</h3>\n",
        "NEW_PATH = '/content/drive/MyDrive' #@param {type:\"string\"}\n",
        "!cp -r \"{OUTPUT}\" \"{NEW_PATH}\""
      ],
      "metadata": {
        "cellView": "form",
        "id": "a1tYzM4X0-AI"
      },
      "execution_count": null,
      "outputs": []
    },
    {
      "cell_type": "code",
      "source": [
        "#@markdown <h3>Move output (No Subtitle) from root to new path</h3>\n",
        "NEW_PATH = '/content/drive/MyDrive' #@param {type:\"string\"}\n",
        "!mv \"{FINAL_OUTPUT}\" \"{NEW_PATH}\""
      ],
      "metadata": {
        "cellView": "form",
        "id": "yCKJCRnl0__A"
      },
      "execution_count": null,
      "outputs": []
    },
    {
      "cell_type": "code",
      "source": [
        "#@markdown <h3>Move output (Muxed subtitle) from root to new path</h3>\n",
        "NEW_PATH = '/content/drive/MyDrive' #@param {type:\"string\"}\n",
        "!cp -r \"{OUTPUT}\" \"{NEW_PATH}\""
      ],
      "metadata": {
        "cellView": "form",
        "id": "-mFqGU941CRo"
      },
      "execution_count": null,
      "outputs": []
    },
    {
      "cell_type": "markdown",
      "source": [
        "#__Upload to Google Drive__"
      ],
      "metadata": {
        "id": "EgfH5-qG1Htp"
      }
    },
    {
      "cell_type": "code",
      "source": [
        "#@title Download\n",
        "LINK_FILE = \"http://139.59.255.159/7.Hari.Mencintaiku.S03E12.1080p.IQ.WEB-DL.AAC.H.264-NOGRP.mp4\" #@param {type:\"string\"}\n",
        "#@markdown Path support Google Drive dan SharedDrive @ Team Drive (/content/drive/Shareddrives/FOLDER)\n",
        "PATH = \"/content/drive/Shareddrives/ROTG\" #@param {type:\"string\"}\n",
        "print(\"Downloading.....\")\n",
        "!aria2c --file-allocation=none -x16 \"{LINK_FILE}\" --dir=\"{PATH}\"\n",
        "print(\"Done!\")"
      ],
      "metadata": {
        "cellView": "form",
        "id": "04-Or7KnAs6U"
      },
      "execution_count": null,
      "outputs": []
    }
  ]
}
