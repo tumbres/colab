{
  "nbformat": 4,
  "nbformat_minor": 0,
  "metadata": {
    "colab": {
      "name": "ROTG Tools.ipynb",
      "provenance": [],
      "collapsed_sections": [],
      "include_colab_link": true
    },
    "kernelspec": {
      "name": "python3",
      "display_name": "Python 3"
    }
  },
  "cells": [
    {
      "cell_type": "markdown",
      "metadata": {
        "id": "view-in-github",
        "colab_type": "text"
      },
      "source": [
        "<a href=\"https://colab.research.google.com/github/tkimondox/colab/blob/main/ROTG_Tools.ipynb\" target=\"_parent\"><img src=\"https://colab.research.google.com/assets/colab-badge.svg\" alt=\"Open In Colab\"/></a>"
      ]
    },
    {
      "cell_type": "markdown",
      "source": [
        "#__Install ROTG Tools__"
      ],
      "metadata": {
        "id": "jv-RQDMycIhR"
      }
    },
    {
      "cell_type": "code",
      "source": [
        "#@title Install ROTG tools\n",
        "from google.colab import drive\n",
        "drive.mount('/content/drive')\n",
        "print(\"Done! Google Drive Mounted\")\n",
        "from IPython.display import clear_output \n",
        "!sudo apt update\n",
        "!sudo apt install aria2\n",
        "!sudo curl -L https://github.com/yt-dlp/yt-dlp/releases/latest/download/yt-dlp -o /usr/local/bin/yt-dlp\n",
        "!sudo chmod a+rx /usr/local/bin/yt-dlp\n",
        "!sudo curl -L https://github.com/tkimondok/ROTG/raw/main/mp4decrypt -o /usr/local/bin/mp4decrypt\n",
        "!sudo chmod a+rx /usr/local/bin/mp4decrypt\n",
        "!sudo apt install ffmpeg\n",
        "!sudo apt -y install aria2\n",
        "clear_output()\n",
        "print(\"Done! ROTG Tools Installed\")"
      ],
      "metadata": {
        "id": "7A_f6IA3cQHa",
        "cellView": "form"
      },
      "execution_count": null,
      "outputs": []
    },
    {
      "cell_type": "markdown",
      "source": [
        "#__Start ROTG Tools__"
      ],
      "metadata": {
        "id": "PUKHbPw-d3xQ"
      }
    },
    {
      "cell_type": "code",
      "source": [
        "#@markdown <h2>Extract Manifest Info</h2>\n",
        "MPD_URL = 'https://hbogoprod-vod.akamaized.net/video/vod/output/HBOAsia/607983256d048943f77c2545_hbovodhd/dash0/MYS_DOLBY_index.mpd' #@param {type:\"string\"}\n",
        "!yt-dlp --no-warnings --allow-u -F \"{MPD_URL}\"\n",
        "print(\"Done! Copy video ID and Audio ID\")"
      ],
      "metadata": {
        "id": "uqJmkdPFd2up",
        "cellView": "form"
      },
      "execution_count": null,
      "outputs": []
    },
    {
      "cell_type": "code",
      "source": [
        "#@markdown <h2>Download Video and Audio</h2>\n",
        "from IPython.display import clear_output\n",
        "VIDEO_ID = 'video_avc1_1' #@param {type:\"string\"}\n",
        "AUDIO_ID = 'audio_DOLBY_ec-3' #@param {type:\"string\"}\n",
        "VIDEO_OUTPUT = 'default.mp4' #@param {type:\"string\"}\n",
        "AUDIO_OUTPUT = 'default.m4a' #@param {type:\"string\"}\n",
        "VIDEO_DECRYPT_OUTPUT = 'dec.mp4' #@param {type:\"string\"}\n",
        "AUDIO_DECRYPT_OUTPUT = 'dec.m4a' #@param {type:\"string\"}\n",
        "KID_KEY = 'd65f3f88e9735f66ae0ce8ea18e0e60a:95dcfcecab22f00aac0c210f804ec27d' #@param {type:\"string\"}\n",
        "#@markdown <h4>Path support Google Drive and SharedDrive</h4>\n",
        "FINAL_OUTPUT = 'done.mp4' #@param {type:\"string\"}\n",
        "print(\"Downloading video.....\")\n",
        "!yt-dlp --no-warnings --allow-u -f \"{VIDEO_ID}\" \"{MPD_URL}\" -o \"{VIDEO_OUTPUT}\" -N 60\n",
        "clear_output()\n",
        "print(\"Success\")\n",
        "clear_output()\n",
        "print(\"Downloading audio.....\")\n",
        "!yt-dlp --no-warnings --allow-u -f \"{AUDIO_ID}\" \"{MPD_URL}\" -o \"{AUDIO_OUTPUT}\" -N 60\n",
        "clear_output()\n",
        "print(\"Success\")\n",
        "clear_output()\n",
        "print(\"Decrypting video.....\")\n",
        "!mp4decrypt --show-progress --key \"{KID_KEY}\" \"{VIDEO_OUTPUT}\" \"{VIDEO_DECRYPT_OUTPUT}\"\n",
        "clear_output()\n",
        "print(\"Success\")\n",
        "clear_output()\n",
        "print(\"Decrypting audio.....\")\n",
        "!mp4decrypt --show-progress --key \"{KID_KEY}\" \"{AUDIO_OUTPUT}\" \"{AUDIO_DECRYPT_OUTPUT}\"\n",
        "clear_output()\n",
        "print(\"Success\")\n",
        "clear_output()\n",
        "print(\"Merging video and audio into single file.....\")\n",
        "!ffmpeg -loglevel error -i \"{VIDEO_DECRYPT_OUTPUT}\" -i \"{AUDIO_DECRYPT_OUTPUT}\" -c copy \"{FINAL_OUTPUT}\"\n",
        "clear_output()\n",
        "print(\"Success\")\n",
        "clear_output()\n",
        "print(\"Done! Video Ready to Share and Download.\")"
      ],
      "metadata": {
        "id": "yesgUWe2fF0p",
        "cellView": "form"
      },
      "execution_count": null,
      "outputs": []
    },
    {
      "cell_type": "markdown",
      "source": [
        "#__Download Subtitle from MPD__"
      ],
      "metadata": {
        "id": "0wpWay7NqmiF"
      }
    },
    {
      "cell_type": "code",
      "source": [
        "#@title Get List And Download\n",
        "!yt-dlp --no-warnings --allow-u --list-subs \"{MPD_URL}\"\n",
        "!yt-dlp --no-warnings --allow-u -N 32 --skip-download --all-subs \"{MPD_URL}\" -o subtitle\n",
        "clear_output()\n",
        "print(\"Done! All Subtitle Downloaded\")"
      ],
      "metadata": {
        "cellView": "form",
        "id": "vxllVZ7Rqx7M"
      },
      "execution_count": null,
      "outputs": []
    },
    {
      "cell_type": "markdown",
      "source": [
        "#__Convert VTT to SRT__"
      ],
      "metadata": {
        "id": "0HujI7AstIf0"
      }
    },
    {
      "cell_type": "code",
      "source": [
        "SUBTITLE_INPUT = 'subtitle.MA.vtt' #@param {type:\"string\"}\n",
        "SUBTITLE_OUTPUT = 'MA.srt' #@param {type:\"string\"}\n",
        "!ffmpeg -loglevel error -i \"{SUBTITLE_INPUT}\" \"{SUBTITLE_OUTPUT}\"\n",
        "clear_output()\n",
        "SUBTITLE_INPUT = 'subtitle.EN.vtt' #@param {type:\"string\"}\n",
        "SUBTITLE_OUTPUT = 'EN.srt' #@param {type:\"string\"}\n",
        "!ffmpeg -loglevel error -i \"{SUBTITLE_INPUT}\" \"{SUBTITLE_OUTPUT}\"\n",
        "clear_output()\n",
        "SUBTITLE_INPUT = 'subtitle.CN.vtt' #@param {type:\"string\"}\n",
        "SUBTITLE_OUTPUT = 'CN.srt' #@param {type:\"string\"}\n",
        "!ffmpeg -loglevel error -i \"{SUBTITLE_INPUT}\" \"{SUBTITLE_OUTPUT}\"\n",
        "clear_output()\n",
        "print(\"Done! Convert to SRT\")"
      ],
      "metadata": {
        "cellView": "form",
        "id": "pxF8VMauwllD"
      },
      "execution_count": null,
      "outputs": []
    },
    {
      "cell_type": "markdown",
      "source": [
        "#__Muxing Subtitle__"
      ],
      "metadata": {
        "id": "UV6C9kmQp3q9"
      }
    },
    {
      "cell_type": "code",
      "source": [
        "#@markdown <h3>Mux 3 subtitles</h3>\n",
        "SUBTITLE_01 = 'EN.srt' #@param {type:\"string\"}\n",
        "SUBTITLE_02 = 'MA.srt' #@param {type:\"string\"}\n",
        "SUBTITLE_03 = 'CN.srt' #@param {type:\"string\"}\n",
        "LANGUAGE_01 = 'english' #@param {type:\"string\"}\n",
        "LANGUAGE_02 = 'malaysia' #@param {type:\"string\"}\n",
        "LANGUAGE_03 = 'china' #@param {type:\"string\"}\n",
        "OUTPUT = 'WONDER WOMAN.1080p.WEB-DL.DDP5.1-ROTG.mkv' #@param {type:\"string\"}\n",
        "!ffmpeg -i \"{FINAL_OUTPUT}\" -i \"{SUBTITLE_01}\" -i \"{SUBTITLE_02}\" -i \"{SUBTITLE_03}\" -map 0 -map 1:s -map 2:s -map 3:s -c copy -metadata:s:s:0 language=\"{LANGUAGE_01}\" -metadata:s:s:1 language=\"{LANGUAGE_02}\" -metadata:s:s:2 language=\"{LANGUAGE_03}\" \"{OUTPUT}\"\n",
        "clear_output()\n",
        "print(\"Done! Subtitle Muxed\")"
      ],
      "metadata": {
        "cellView": "form",
        "id": "MJaafoKCzmbh"
      },
      "execution_count": null,
      "outputs": []
    },
    {
      "cell_type": "markdown",
      "source": [
        "#__Move Muxed Subtitle to Google Drive__"
      ],
      "metadata": {
        "id": "fdy9C6b304ZA"
      }
    },
    {
      "cell_type": "code",
      "source": [
        "#@markdown <h3>Move output (Muxed subtitle) from root to new path</h3>\n",
        "NEW_PATH = '/content/drive/Shareddrives/ROTG/HBO ACTION' #@param {type:\"string\"}\n",
        "!cp -r \"{OUTPUT}\" \"{NEW_PATH}\"\n",
        "clear_output()\n",
        "print(\"Done! Video Moved to Google Drive\")"
      ],
      "metadata": {
        "cellView": "form",
        "id": "-mFqGU941CRo"
      },
      "execution_count": null,
      "outputs": []
    },
    {
      "cell_type": "markdown",
      "source": [
        "#__Remove All File__"
      ],
      "metadata": {
        "id": "jBc1lioh75DQ"
      }
    },
    {
      "cell_type": "code",
      "source": [
        "#@markdown <h3>Remove File</h3>\n",
        "!rm -r \"{OUTPUT}\" \"{VIDEO_OUTPUT}\" \"{VIDEO_DECRYPT_OUTPUT}\" \"{AUDIO_OUTPUT}\" \"{AUDIO_DECRYPT_OUTPUT}\" \"{FINAL_OUTPUT}\" \"{SUBTITLE_INPUT}\" \"{SUBTITLE_OUTPUT}\"\n",
        "clear_output()\n",
        "print(\"Done! Some File Can't Be Remove\")"
      ],
      "metadata": {
        "cellView": "form",
        "id": "NB2r4O5s8LKE"
      },
      "execution_count": null,
      "outputs": []
    }
  ]
}